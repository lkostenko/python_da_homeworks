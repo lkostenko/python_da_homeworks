{
 "cells": [
  {
   "cell_type": "code",
   "execution_count": 3,
   "id": "0b732441-33d5-43dd-8ac5-78c687360da6",
   "metadata": {},
   "outputs": [
    {
     "name": "stdout",
     "output_type": "stream",
     "text": [
      "Requirement already satisfied: webdriver-manager in c:\\python\\lib\\site-packages (4.0.2)\n",
      "Requirement already satisfied: requests in c:\\python\\lib\\site-packages (from webdriver-manager) (2.32.3)\n",
      "Requirement already satisfied: python-dotenv in c:\\python\\lib\\site-packages (from webdriver-manager) (1.0.1)\n",
      "Requirement already satisfied: packaging in c:\\python\\lib\\site-packages (from webdriver-manager) (24.1)\n",
      "Requirement already satisfied: charset-normalizer<4,>=2 in c:\\python\\lib\\site-packages (from requests->webdriver-manager) (3.3.2)\n",
      "Requirement already satisfied: idna<4,>=2.5 in c:\\python\\lib\\site-packages (from requests->webdriver-manager) (3.10)\n",
      "Requirement already satisfied: urllib3<3,>=1.21.1 in c:\\python\\lib\\site-packages (from requests->webdriver-manager) (2.2.3)\n",
      "Requirement already satisfied: certifi>=2017.4.17 in c:\\python\\lib\\site-packages (from requests->webdriver-manager) (2024.8.30)\n"
     ]
    },
    {
     "name": "stderr",
     "output_type": "stream",
     "text": [
      "\n",
      "[notice] A new release of pip is available: 24.2 -> 25.0.1\n",
      "[notice] To update, run: python.exe -m pip install --upgrade pip\n"
     ]
    }
   ],
   "source": [
    "!pip install --upgrade webdriver-manager\n",
    "\n"
   ]
  },
  {
   "cell_type": "code",
   "execution_count": 80,
   "id": "2fe41a80-5841-4ce2-b2cc-2d1e08959103",
   "metadata": {},
   "outputs": [],
   "source": [
    "from selenium import webdriver\n",
    "from selenium.webdriver.common.by import By\n",
    "from selenium.webdriver.chrome.service import Service\n",
    "from selenium.webdriver.support.ui import WebDriverWait\n",
    "from selenium.webdriver.support import expected_conditions as EC\n",
    "from webdriver_manager.chrome import ChromeDriverManager\n",
    "import time"
   ]
  },
  {
   "cell_type": "code",
   "execution_count": null,
   "id": "3716acbf-8dc6-4ff5-aeec-761de9194194",
   "metadata": {},
   "outputs": [
    {
     "name": "stdout",
     "output_type": "stream",
     "text": [
      "Кількість унікальних курсів: 10\n",
      "Унікальні курси:\n",
      "Java developer\n",
      "Опис курсу Java developer: Щоразу, коли ти користуєшся сайтом або застосунком, ти бачиш результат їхньої роботи. Java developers не лише пишуть і підтримують код, а й розробляють надійні застосунки, які відзначаються високою продуктивністю та масштабованістю. Вони також управляють базами даних і серверною логікою. Вражає, чи не так?\n",
      "Тип курсу Java developer: full-time and flex\n",
      "Кількість тем у курсі Java developer: 192\n",
      "UI/UX designer\n"
     ]
    }
   ],
   "source": [
    "def count_courses():\n",
    "    browser = webdriver.Chrome(service=Service(ChromeDriverManager().install()))\n",
    "    browser.get(\"https://mate.academy/\")\n",
    "\n",
    "    try:\n",
    "        courses_button = WebDriverWait(browser, 10).until(\n",
    "            EC.element_to_be_clickable((By.XPATH, \"//span[text()='Курси']\"))\n",
    "        )\n",
    "        courses_button.click()\n",
    "        time.sleep(2)\n",
    "        \n",
    "        courses = browser.find_elements(By.CLASS_NAME, 'DropdownProfessionsItem_link__4NmVV')\n",
    "        unique_courses = set(course.text.strip() for course in courses if course.is_displayed())\n",
    "        \n",
    "        print(f\"Кількість унікальних курсів: {len(unique_courses)}\")\n",
    "        print(\"Унікальні курси:\")\n",
    "        \n",
    "        for course_name in unique_courses:\n",
    "            print(course_name)\n",
    "            \n",
    "            try:\n",
    "                browser.get(\"https://mate.academy/\")\n",
    "                time.sleep(2)\n",
    "                \n",
    "                courses_button = WebDriverWait(browser, 10).until(\n",
    "                    EC.element_to_be_clickable((By.XPATH, \"//span[text()='Курси']\"))\n",
    "                )\n",
    "                courses_button.click()\n",
    "                time.sleep(2)\n",
    "                \n",
    "                course_elements = browser.find_elements(By.LINK_TEXT, course_name)\n",
    "                if course_elements:\n",
    "                    course_element = course_elements[0]\n",
    "                    browser.execute_script(\"arguments[0].scrollIntoView();\", course_element)\n",
    "                    browser.execute_script(\"arguments[0].click();\", course_element)\n",
    "                    time.sleep(3)\n",
    "                else:\n",
    "                    print(f\"Не вдалося знайти курс: {course_name}\")\n",
    "                    continue\n",
    "                \n",
    "                description_elements = browser.find_elements(By.CLASS_NAME, 'SalarySection_aboutProfession__1VFHK')\n",
    "                description = description_elements[0].text if description_elements else \"Опис відсутній\"\n",
    "                print(f\"Опис курсу {course_name}: {description}\")\n",
    "                \n",
    "                buttons = browser.find_elements(By.CLASS_NAME, \"ButtonBody_buttonText__FMZEg\")\n",
    "                button_texts = [button.text for button in buttons]\n",
    "                \n",
    "                course_type = \"unknown\"\n",
    "                if \"Навчатися повний день\" in button_texts and \"Навчатися у вільний час\" in button_texts:\n",
    "                    course_type = \"full-time and flex\"\n",
    "                elif \"Немає відкритих груп\" in button_texts and \"Навчатися у вільний час\" in button_texts:\n",
    "                    course_type = \"flex\"\n",
    "                \n",
    "                print(f\"Тип курсу {course_name}: {course_type}\")\n",
    "                \n",
    "               \n",
    "                topics_blocks = browser.find_elements(By.CLASS_NAME, \"FactBlock_factIconBlock__cgzql\")\n",
    "                topics_number = \"Кількість тем не знайдено\"\n",
    "                \n",
    "                for block in topics_blocks:\n",
    "                    description = block.find_elements(By.CLASS_NAME, \"FactBlock_factDescription__Dy2k7\")\n",
    "                    if any(\"Тем\" in desc.text or \"Теми\" in desc.text for desc in description):\n",
    "                        number_element = block.find_element(By.CLASS_NAME, \"FactBlock_factNumber__d_8nn\")\n",
    "                        topics_number = number_element.text if number_element else \"Кількість тем не знайдено\"\n",
    "                        break\n",
    "                \n",
    "                print(f\"Кількість тем у курсі {course_name}: {topics_number}\")\n",
    "            \n",
    "            except Exception as e:\n",
    "                print(f\"Помилка при натисканні на курс {course_name}: {e}\")\n",
    "    \n",
    "    except Exception as e:\n",
    "        print(f\"Помилка: {e}\")\n",
    "    \n",
    "    finally:\n",
    "        browser.quit()\n",
    "\n",
    "count_courses()\n"
   ]
  },
  {
   "cell_type": "code",
   "execution_count": null,
   "id": "c19543fb-addc-4038-94e1-f6bb9298a8b3",
   "metadata": {},
   "outputs": [],
   "source": []
  }
 ],
 "metadata": {
  "kernelspec": {
   "display_name": "Python 3 (ipykernel)",
   "language": "python",
   "name": "python3"
  },
  "language_info": {
   "codemirror_mode": {
    "name": "ipython",
    "version": 3
   },
   "file_extension": ".py",
   "mimetype": "text/x-python",
   "name": "python",
   "nbconvert_exporter": "python",
   "pygments_lexer": "ipython3",
   "version": "3.12.7"
  }
 },
 "nbformat": 4,
 "nbformat_minor": 5
}
